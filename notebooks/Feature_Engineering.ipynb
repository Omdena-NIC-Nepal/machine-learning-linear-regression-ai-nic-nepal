{
 "cells": [
  {
   "cell_type": "code",
   "execution_count": 17,
   "id": "1121db12-a5f4-415e-866d-8d8440bc0fce",
   "metadata": {},
   "outputs": [],
   "source": [
    "# notebooks/Feature_Engineering.ipynb\n",
    "import pandas as pd\n",
    "from sklearn.preprocessing import PolynomialFeatures, StandardScaler\n",
    "from sklearn.linear_model import LinearRegression\n",
    "from sklearn.impute import SimpleImputer\n",
    "from sklearn.model_selection import train_test_split\n",
    "from sklearn.metrics import mean_squared_error, r2_score\n",
    "\n",
    "\n"
   ]
  },
  {
   "cell_type": "code",
   "execution_count": 19,
   "id": "aabce28b-547a-4ec1-949d-d859d929a01f",
   "metadata": {},
   "outputs": [],
   "source": [
    "df = pd.read_csv('../data/HousingData.csv')\n"
   ]
  },
  {
   "cell_type": "code",
   "execution_count": 21,
   "id": "4b7a1db7-8366-4197-8dcc-80d927980e14",
   "metadata": {},
   "outputs": [],
   "source": [
    "# Handle missing values\n",
    "imputer = SimpleImputer(strategy='mean')\n",
    "df_imputed = pd.DataFrame(imputer.fit_transform(df), columns=df.columns)\n",
    "\n",
    "# Encode categorical variables (CHAS)\n",
    "df_imputed = pd.get_dummies(df_imputed, columns=['CHAS'], drop_first=True)\n",
    "\n",
    "# Normalize/standardize numerical features\n",
    "scaler = StandardScaler()\n",
    "scaled_features = scaler.fit_transform(df_imputed.drop('MEDV', axis=1))\n",
    "scaled_df = pd.DataFrame(scaled_features, columns=df_imputed.columns[:-1])"
   ]
  },
  {
   "cell_type": "code",
   "execution_count": 24,
   "id": "03a67265-5bb9-446c-a58d-69b966fc50c4",
   "metadata": {},
   "outputs": [],
   "source": [
    "# Feature engineering: create polynomial features\n",
    "poly = PolynomialFeatures(degree=2, include_bias=False)\n",
    "poly_features = poly.fit_transform(scaled_df)\n",
    "poly_df = pd.DataFrame(poly_features, columns=poly.get_feature_names_out(scaled_df.columns))\n",
    "\n",
    "# Combine polynomial features with target variable\n",
    "poly_df['MEDV'] = df_imputed['MEDV']\n",
    "\n",
    "# Save the engineered dataset\n",
    "poly_df.to_csv('../data/poly_features.csv', index=False)\n",
    "\n"
   ]
  },
  {
   "cell_type": "code",
   "execution_count": null,
   "id": "8642f9e0-b76f-4af4-8df3-a86e7ad01fb2",
   "metadata": {},
   "outputs": [],
   "source": []
  }
 ],
 "metadata": {
  "kernelspec": {
   "display_name": "Python 3 (ipykernel)",
   "language": "python",
   "name": "python3"
  },
  "language_info": {
   "codemirror_mode": {
    "name": "ipython",
    "version": 3
   },
   "file_extension": ".py",
   "mimetype": "text/x-python",
   "name": "python",
   "nbconvert_exporter": "python",
   "pygments_lexer": "ipython3",
   "version": "3.12.4"
  }
 },
 "nbformat": 4,
 "nbformat_minor": 5
}
